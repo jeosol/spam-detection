{
 "cells": [
  {
   "cell_type": "code",
   "execution_count": 32,
   "id": "43dc0382",
   "metadata": {},
   "outputs": [],
   "source": [
    "# Import library\n",
    "import pandas as pd\n",
    "import numpy as np\n",
    "import string\n",
    "import seaborn as sns\n",
    "import matplotlib.pyplot as plt\n",
    "from nltk.corpus import stopwords\n",
    "from sklearn.feature_extraction.text import CountVectorizer\n",
    "from sklearn.feature_extraction.text import TfidfTransformer\n",
    "from sklearn.model_selection import train_test_split\n",
    "from sklearn.svm import SVC\n",
    "from collections import Counter\n",
    "from sklearn.metrics import classification_report,confusion_matrix\n",
    "from sklearn.model_selection import GridSearchCV\n",
    "%matplotlib inline\n",
    "# Load data\n",
    "data = pd.read_excel('../data/data.xlsx')\n",
    "#data = pd.read_csv('../data/SMSSpamCollection')\n",
    "# Rename names columns \n",
    "data.columns = ['label', 'messages']"
   ]
  },
  {
   "cell_type": "code",
   "execution_count": 33,
   "id": "f8ee84b8",
   "metadata": {},
   "outputs": [
    {
     "data": {
      "text/html": [
       "<div>\n",
       "<style scoped>\n",
       "    .dataframe tbody tr th:only-of-type {\n",
       "        vertical-align: middle;\n",
       "    }\n",
       "\n",
       "    .dataframe tbody tr th {\n",
       "        vertical-align: top;\n",
       "    }\n",
       "\n",
       "    .dataframe thead th {\n",
       "        text-align: right;\n",
       "    }\n",
       "</style>\n",
       "<table border=\"1\" class=\"dataframe\">\n",
       "  <thead>\n",
       "    <tr style=\"text-align: right;\">\n",
       "      <th></th>\n",
       "      <th>label</th>\n",
       "      <th>messages</th>\n",
       "    </tr>\n",
       "  </thead>\n",
       "  <tbody>\n",
       "    <tr>\n",
       "      <th>count</th>\n",
       "      <td>5574</td>\n",
       "      <td>5574</td>\n",
       "    </tr>\n",
       "    <tr>\n",
       "      <th>unique</th>\n",
       "      <td>2</td>\n",
       "      <td>5171</td>\n",
       "    </tr>\n",
       "    <tr>\n",
       "      <th>top</th>\n",
       "      <td>ham</td>\n",
       "      <td>Sorry, I'll call later</td>\n",
       "    </tr>\n",
       "    <tr>\n",
       "      <th>freq</th>\n",
       "      <td>4827</td>\n",
       "      <td>30</td>\n",
       "    </tr>\n",
       "  </tbody>\n",
       "</table>\n",
       "</div>"
      ],
      "text/plain": [
       "       label                messages\n",
       "count   5574                    5574\n",
       "unique     2                    5171\n",
       "top      ham  Sorry, I'll call later\n",
       "freq    4827                      30"
      ]
     },
     "execution_count": 33,
     "metadata": {},
     "output_type": "execute_result"
    }
   ],
   "source": [
    "data.describe()"
   ]
  },
  {
   "cell_type": "markdown",
   "id": "62a2dabc",
   "metadata": {},
   "source": [
    "Create another column with the length of the messages"
   ]
  },
  {
   "cell_type": "code",
   "execution_count": 34,
   "id": "5c036c41",
   "metadata": {},
   "outputs": [
    {
     "data": {
      "text/html": [
       "<div>\n",
       "<style scoped>\n",
       "    .dataframe tbody tr th:only-of-type {\n",
       "        vertical-align: middle;\n",
       "    }\n",
       "\n",
       "    .dataframe tbody tr th {\n",
       "        vertical-align: top;\n",
       "    }\n",
       "\n",
       "    .dataframe thead th {\n",
       "        text-align: right;\n",
       "    }\n",
       "</style>\n",
       "<table border=\"1\" class=\"dataframe\">\n",
       "  <thead>\n",
       "    <tr style=\"text-align: right;\">\n",
       "      <th></th>\n",
       "      <th>label</th>\n",
       "      <th>messages</th>\n",
       "      <th>length</th>\n",
       "    </tr>\n",
       "  </thead>\n",
       "  <tbody>\n",
       "    <tr>\n",
       "      <th>1085</th>\n",
       "      <td>ham</td>\n",
       "      <td>For me the love should start with attraction.i...</td>\n",
       "      <td>910</td>\n",
       "    </tr>\n",
       "    <tr>\n",
       "      <th>1863</th>\n",
       "      <td>ham</td>\n",
       "      <td>The last thing i ever wanted to do was hurt yo...</td>\n",
       "      <td>790</td>\n",
       "    </tr>\n",
       "    <tr>\n",
       "      <th>2434</th>\n",
       "      <td>ham</td>\n",
       "      <td>Indians r poor but India is not a poor country...</td>\n",
       "      <td>629</td>\n",
       "    </tr>\n",
       "    <tr>\n",
       "      <th>1579</th>\n",
       "      <td>ham</td>\n",
       "      <td>How to Make a girl Happy? It's not at all diff...</td>\n",
       "      <td>611</td>\n",
       "    </tr>\n",
       "    <tr>\n",
       "      <th>2849</th>\n",
       "      <td>ham</td>\n",
       "      <td>Sad story of a Man - Last week was my b'day. M...</td>\n",
       "      <td>588</td>\n",
       "    </tr>\n",
       "    <tr>\n",
       "      <th>2158</th>\n",
       "      <td>ham</td>\n",
       "      <td>Sad story of a Man - Last week was my b'day. M...</td>\n",
       "      <td>588</td>\n",
       "    </tr>\n",
       "    <tr>\n",
       "      <th>2380</th>\n",
       "      <td>ham</td>\n",
       "      <td>Good evening Sir, hope you are having a nice d...</td>\n",
       "      <td>482</td>\n",
       "    </tr>\n",
       "    <tr>\n",
       "      <th>3017</th>\n",
       "      <td>ham</td>\n",
       "      <td>&amp;lt;#&amp;gt;  is fast approaching. So, Wish u a v...</td>\n",
       "      <td>461</td>\n",
       "    </tr>\n",
       "    <tr>\n",
       "      <th>1513</th>\n",
       "      <td>ham</td>\n",
       "      <td>Hey sweet, I was wondering when you had a mome...</td>\n",
       "      <td>458</td>\n",
       "    </tr>\n",
       "    <tr>\n",
       "      <th>2370</th>\n",
       "      <td>ham</td>\n",
       "      <td>A Boy loved a gal. He propsd bt she didnt mind...</td>\n",
       "      <td>446</td>\n",
       "    </tr>\n",
       "  </tbody>\n",
       "</table>\n",
       "</div>"
      ],
      "text/plain": [
       "     label                                           messages  length\n",
       "1085   ham  For me the love should start with attraction.i...     910\n",
       "1863   ham  The last thing i ever wanted to do was hurt yo...     790\n",
       "2434   ham  Indians r poor but India is not a poor country...     629\n",
       "1579   ham  How to Make a girl Happy? It's not at all diff...     611\n",
       "2849   ham  Sad story of a Man - Last week was my b'day. M...     588\n",
       "2158   ham  Sad story of a Man - Last week was my b'day. M...     588\n",
       "2380   ham  Good evening Sir, hope you are having a nice d...     482\n",
       "3017   ham  &lt;#&gt;  is fast approaching. So, Wish u a v...     461\n",
       "1513   ham  Hey sweet, I was wondering when you had a mome...     458\n",
       "2370   ham  A Boy loved a gal. He propsd bt she didnt mind...     446"
      ]
     },
     "execution_count": 34,
     "metadata": {},
     "output_type": "execute_result"
    }
   ],
   "source": [
    "data['length'] = data['messages'].apply(len)\n",
    "data.sort_values(by='length', ascending=False).head(10)"
   ]
  },
  {
   "cell_type": "code",
   "execution_count": 35,
   "id": "61a50aad",
   "metadata": {},
   "outputs": [
    {
     "data": {
      "text/plain": [
       "array([<AxesSubplot:title={'center':'ham'}>,\n",
       "       <AxesSubplot:title={'center':'spam'}>], dtype=object)"
      ]
     },
     "execution_count": 35,
     "metadata": {},
     "output_type": "execute_result"
    },
    {
     "data": {
      "image/png": "[encoded data removed]",
      "text/plain": [
       "<Figure size 864x288 with 2 Axes>"
      ]
     },
     "metadata": {
      "needs_background": "light"
     },
     "output_type": "display_data"
    }
   ],
   "source": [
    "data.hist(column='length', by='label', figsize=(12,4), bins=5)"
   ]
  },
  {
   "cell_type": "markdown",
   "id": "26423c37",
   "metadata": {},
   "source": [
    "From the above, the spam messages then to have characters"
   ]
  },
  {
   "cell_type": "markdown",
   "id": "a23ebebf",
   "metadata": {},
   "source": [
    "## Tokenization"
   ]
  },
  {
   "cell_type": "code",
   "execution_count": 36,
   "id": "2fde6798",
   "metadata": {},
   "outputs": [],
   "source": [
    "# remove punctuations\n",
    "from nltk.corpus import stopwords\n",
    "\n",
    "# remove any stop words for remove_punch, but first we should transform this into the list\n",
    "\n",
    "def transform_message(message):\n",
    "    message_not_punc = [] # messages without punctuation\n",
    "    i = 0\n",
    "    for punctuation in message:\n",
    "        if punctuation not in string.punctuation:\n",
    "            message_not_punc.append(punctuation)\n",
    "    # join the words to form the string\n",
    "    message_not_punc = ''.join(message_not_punc)\n",
    "    \n",
    "    # remove any stopwords for the message_not_punc, but first we should transform this into a list\n",
    "    message_clean = list(message_not_punc.split(\" \"))\n",
    "    while i <= len(message_clean):\n",
    "        for message in message_clean:\n",
    "            if message.lower() in stopwords.words('english'):\n",
    "                message_clean.remove(message)\n",
    "        i += 1 \n",
    "    return message_clean\n",
    "                        \n",
    "        "
   ]
  },
  {
   "cell_type": "code",
   "execution_count": 37,
   "id": "54e57393",
   "metadata": {},
   "outputs": [
    {
     "data": {
      "text/plain": [
       "0    [Go, jurong, point, crazy, Available, bugis, n...\n",
       "1                       [Ok, lar, Joking, wif, u, oni]\n",
       "2    [Free, entry, 2, wkly, comp, win, FA, Cup, fin...\n",
       "3        [U, dun, say, early, hor, U, c, already, say]\n",
       "4    [Nah, dont, think, goes, usf, lives, around, t...\n",
       "Name: messages, dtype: object"
      ]
     },
     "execution_count": 37,
     "metadata": {},
     "output_type": "execute_result"
    }
   ],
   "source": [
    "# apply the above function\n",
    "data['messages'].head(5).apply(transform_message)"
   ]
  },
  {
   "cell_type": "code",
   "execution_count": 42,
   "id": "71571d66",
   "metadata": {},
   "outputs": [],
   "source": [
    "test_data = data.loc[:5]"
   ]
  },
  {
   "cell_type": "code",
   "execution_count": 54,
   "id": "6f12a408",
   "metadata": {},
   "outputs": [
    {
     "data": {
      "text/plain": [
       "\"Free entry in 2 a wkly comp to win FA Cup final tkts 21st May 2005. Text FA to 87121 to receive entry question(std txt rate)T&C's apply 08452810075over18's\""
      ]
     },
     "execution_count": 54,
     "metadata": {},
     "output_type": "execute_result"
    }
   ],
   "source": [
    "test_data['messages'][2]"
   ]
  },
  {
   "cell_type": "code",
   "execution_count": 17,
   "id": "827a942c",
   "metadata": {},
   "outputs": [
    {
     "name": "stderr",
     "output_type": "stream",
     "text": [
      "[nltk_data] Downloading package stopwords to\n",
      "[nltk_data]     /home/onwunalu/nltk_data...\n",
      "[nltk_data]   Unzipping corpora/stopwords.zip.\n"
     ]
    },
    {
     "data": {
      "text/plain": [
       "True"
      ]
     },
     "execution_count": 17,
     "metadata": {},
     "output_type": "execute_result"
    }
   ],
   "source": [
    "#import nltk\n",
    "#nltk.download('stopwords')"
   ]
  },
  {
   "cell_type": "markdown",
   "id": "2310a098",
   "metadata": {},
   "source": [
    "## VectorizationConvert a collection of text documents to a matrix of token counts.\n",
    "\n",
    "Convert a collection of text documents to a matrix of token counts.\n",
    "This implementation produces a sparse representation of the counts using scipy.sparse.csr_matrix."
   ]
  },
  {
   "cell_type": "code",
   "execution_count": 38,
   "id": "a37928ee",
   "metadata": {},
   "outputs": [],
   "source": [
    "# From the above, we have messages as list of tokens. COnvert the messages into a vector\n",
    "from sklearn.feature_extraction.text import CountVectorizer\n",
    "# countvectorizer convers a collection of documents to an array of token counts"
   ]
  },
  {
   "cell_type": "markdown",
   "id": "5c856b44",
   "metadata": {},
   "source": [
    "## Vectorization using a test_data"
   ]
  },
  {
   "cell_type": "code",
   "execution_count": 45,
   "id": "61c3a311",
   "metadata": {},
   "outputs": [],
   "source": [
    "vectorizer = CountVectorizer(analyzer=transform_message)\n",
    "X = vectorizer.fit_transform(test_data['messages'])"
   ]
  },
  {
   "cell_type": "code",
   "execution_count": 46,
   "id": "9a6effd5",
   "metadata": {},
   "outputs": [
    {
     "data": {
      "text/plain": [
       "array(['08452810075over18s', '2', '2005', '21st', '3', '87121',\n",
       "       'Available', 'Cine', 'Cup', 'FA', 'Free', 'FreeMsg', 'Go', 'Hey',\n",
       "       'Id', 'Joking', 'May', 'Nah', 'Ok', 'Tb', 'Text', 'U', 'XxX',\n",
       "       'already', 'amore', 'apply', 'around', 'back', 'buffet', 'bugis',\n",
       "       'c', 'chgs', 'comp', 'crazy', 'darling', 'dont', 'dun', 'e',\n",
       "       'early', 'entry', 'final', 'fun', 'goes', 'got', 'great', 'hor',\n",
       "       'jurong', 'la', 'lar', 'like', 'lives', 'n', 'ok', 'oni', 'point',\n",
       "       'questionstd', 'rateTCs', 'rcv', 'receive', 'say', 'send', 'std',\n",
       "       'still', 'think', 'though', 'tkts', 'txt', 'u', 'usf', 'wat',\n",
       "       'weeks', 'wif', 'win', 'wkly', 'word', 'world', 'Â£150'],\n",
       "      dtype=object)"
      ]
     },
     "execution_count": 46,
     "metadata": {},
     "output_type": "execute_result"
    }
   ],
   "source": [
    "vectorizer.get_feature_names_out()"
   ]
  },
  {
   "cell_type": "code",
   "execution_count": 52,
   "id": "a1df83f0",
   "metadata": {},
   "outputs": [
    {
     "data": {
      "text/plain": [
       "array([[0, 0, 0, 0, 0, 0, 1, 1, 0, 0, 0, 0, 1, 0, 0, 0, 0, 0, 0, 0, 0, 0,\n",
       "        0, 0, 1, 0, 0, 0, 1, 1, 0, 0, 0, 1, 0, 0, 0, 1, 0, 0, 0, 0, 0, 1,\n",
       "        1, 0, 1, 1, 0, 0, 0, 1, 0, 0, 1, 0, 0, 0, 0, 0, 0, 0, 0, 0, 0, 0,\n",
       "        0, 0, 0, 1, 0, 0, 0, 0, 0, 1, 0],\n",
       "       [0, 0, 0, 0, 0, 0, 0, 0, 0, 0, 0, 0, 0, 0, 0, 1, 0, 0, 1, 0, 0, 0,\n",
       "        0, 0, 0, 0, 0, 0, 0, 0, 0, 0, 0, 0, 0, 0, 0, 0, 0, 0, 0, 0, 0, 0,\n",
       "        0, 0, 0, 0, 1, 0, 0, 0, 0, 1, 0, 0, 0, 0, 0, 0, 0, 0, 0, 0, 0, 0,\n",
       "        0, 1, 0, 0, 0, 1, 0, 0, 0, 0, 0],\n",
       "       [1, 1, 1, 1, 0, 1, 0, 0, 1, 2, 1, 0, 0, 0, 0, 0, 1, 0, 0, 0, 1, 0,\n",
       "        0, 0, 0, 1, 0, 0, 0, 0, 0, 0, 1, 0, 0, 0, 0, 0, 0, 2, 1, 0, 0, 0,\n",
       "        0, 0, 0, 0, 0, 0, 0, 0, 0, 0, 0, 1, 1, 0, 1, 0, 0, 0, 0, 0, 0, 1,\n",
       "        1, 0, 0, 0, 0, 0, 1, 1, 0, 0, 0],\n",
       "       [0, 0, 0, 0, 0, 0, 0, 0, 0, 0, 0, 0, 0, 0, 0, 0, 0, 0, 0, 0, 0, 2,\n",
       "        0, 1, 0, 0, 0, 0, 0, 0, 1, 0, 0, 0, 0, 0, 1, 0, 1, 0, 0, 0, 0, 0,\n",
       "        0, 1, 0, 0, 0, 0, 0, 0, 0, 0, 0, 0, 0, 0, 0, 2, 0, 0, 0, 0, 0, 0,\n",
       "        0, 0, 0, 0, 0, 0, 0, 0, 0, 0, 0],\n",
       "       [0, 0, 0, 0, 0, 0, 0, 0, 0, 0, 0, 0, 0, 0, 0, 0, 0, 1, 0, 0, 0, 0,\n",
       "        0, 0, 0, 0, 1, 0, 0, 0, 0, 0, 0, 0, 0, 1, 0, 0, 0, 0, 0, 0, 1, 0,\n",
       "        0, 0, 0, 0, 0, 0, 1, 0, 0, 0, 0, 0, 0, 0, 0, 0, 0, 0, 0, 1, 1, 0,\n",
       "        0, 0, 1, 0, 0, 0, 0, 0, 0, 0, 0],\n",
       "       [0, 0, 0, 0, 1, 0, 0, 0, 0, 0, 0, 1, 0, 1, 1, 0, 0, 0, 0, 1, 0, 0,\n",
       "        1, 0, 0, 0, 0, 1, 0, 0, 0, 1, 0, 0, 1, 0, 0, 0, 0, 0, 0, 1, 0, 0,\n",
       "        0, 0, 0, 0, 0, 1, 0, 0, 1, 0, 0, 0, 0, 1, 0, 0, 1, 1, 1, 0, 0, 0,\n",
       "        0, 0, 0, 0, 1, 0, 0, 0, 1, 0, 1]])"
      ]
     },
     "execution_count": 52,
     "metadata": {},
     "output_type": "execute_result"
    }
   ],
   "source": [
    "X.toarray()"
   ]
  },
  {
   "cell_type": "code",
   "execution_count": 55,
   "id": "4d05a7bf",
   "metadata": {},
   "outputs": [],
   "source": [
    "# Vectorization\n",
    "vectorization = CountVectorizer(analyzer = transform_message )\n",
    "X_transform = vectorization.fit_transform(data['messages'])\n"
   ]
  },
  {
   "cell_type": "code",
   "execution_count": 56,
   "id": "1050aa5a",
   "metadata": {},
   "outputs": [
    {
     "name": "stdout",
     "output_type": "stream",
     "text": [
      "  (0, 2061)\t1\n",
      "  (0, 7556)\t1\n",
      "  (0, 8918)\t1\n",
      "  (0, 5770)\t1\n",
      "  (0, 1111)\t1\n",
      "  (0, 5219)\t1\n",
      "  (0, 8337)\t1\n",
      "  (0, 6938)\t1\n",
      "  (0, 11164)\t1\n",
      "  (0, 7669)\t1\n",
      "  (0, 6218)\t1\n",
      "  (0, 5218)\t1\n",
      "  (0, 1484)\t1\n",
      "  (0, 6907)\t1\n",
      "  (0, 4654)\t1\n",
      "  (0, 10966)\t1\n",
      "  (1, 3065)\t1\n",
      "  (1, 7702)\t1\n",
      "  (1, 2452)\t1\n",
      "  (1, 11073)\t1\n",
      "  (1, 10699)\t1\n",
      "  (1, 8591)\t1\n",
      "  (2, 1942)\t1\n",
      "  (2, 6332)\t2\n",
      "  (2, 424)\t1\n",
      "  :\t:\n",
      "  (5570, 11417)\t1\n",
      "  (5570, 6692)\t1\n",
      "  (5570, 6355)\t1\n",
      "  (5571, 0)\t1\n",
      "  (5571, 8253)\t1\n",
      "  (5571, 3229)\t1\n",
      "  (5571, 3722)\t1\n",
      "  (5571, 10200)\t1\n",
      "  (5572, 7801)\t1\n",
      "  (5572, 11007)\t1\n",
      "  (5572, 8421)\t1\n",
      "  (5572, 10788)\t1\n",
      "  (5572, 6700)\t1\n",
      "  (5572, 9916)\t1\n",
      "  (5572, 6283)\t1\n",
      "  (5572, 6800)\t1\n",
      "  (5572, 5252)\t1\n",
      "  (5572, 7395)\t1\n",
      "  (5572, 6985)\t1\n",
      "  (5572, 7288)\t1\n",
      "  (5572, 4509)\t1\n",
      "  (5572, 5056)\t1\n",
      "  (5573, 8349)\t1\n",
      "  (5573, 10649)\t1\n",
      "  (5573, 3432)\t1\n"
     ]
    }
   ],
   "source": [
    "print(X_transform)"
   ]
  },
  {
   "cell_type": "markdown",
   "id": "be6486fe",
   "metadata": {},
   "source": [
    "## TF-IDF\n",
    "\n",
    "(notes from http://www.tfidf.com/#:~:text=TF(t)%20%3D%20(Number,terms%20are%20considered%20equally%20important.&text=IDF(t)%20%3D%20log_e(,with%20term%20t%20in%20it).\n",
    "\n",
    "\n",
    "How to Compute TF-IDF ?\n",
    "TF-IDF is composed by two terms: the first term is the Term Frequency (TF) and the second is the Inverse Document Frequency (IDF):\n",
    "\n",
    "Term Frequency (TF): Which measures how frequently a term occurs in a document, that is, the number of times a word appears in a document, divided by the total number of words in that document:\n",
    "\n",
    "TF(t) = (Number of times term t appears in a document) / (Total number of terms in the document)\n",
    "\n",
    "Inverse Document Frequency (IDF): Measures how important a term is, computed as the logarithm of the number of the documents in the corpus divided by the number of documents where the specific term appears.\n",
    "\n",
    "IDF(t) = log_e(Total number of documents / Number of documents with term t in it)"
   ]
  },
  {
   "cell_type": "code",
   "execution_count": 60,
   "id": "cfb1e2a4",
   "metadata": {},
   "outputs": [],
   "source": [
    "from sklearn.feature_extraction.text import TfidfVectorizer "
   ]
  },
  {
   "cell_type": "code",
   "execution_count": 61,
   "id": "2a60f722",
   "metadata": {},
   "outputs": [],
   "source": [
    "tfidf_transformer = TfidfTransformer().fit(X_transform)"
   ]
  },
  {
   "cell_type": "code",
   "execution_count": 62,
   "id": "fd15d6e9",
   "metadata": {},
   "outputs": [
    {
     "name": "stdout",
     "output_type": "stream",
     "text": [
      "(5574, 11426)\n"
     ]
    }
   ],
   "source": [
    "# transform the entire bag-of-words corpus to tfidf corpus\n",
    "X_tfidf = tfidf_transformer.transform(X_transform)\n",
    "print(X_tfidf.shape)\n"
   ]
  },
  {
   "cell_type": "code",
   "execution_count": 74,
   "id": "f967bfa9",
   "metadata": {},
   "outputs": [
    {
     "name": "stdout",
     "output_type": "stream",
     "text": [
      "  (0, 11073)\t0.4006170106480546\n",
      "  (0, 10699)\t0.20637541507921356\n",
      "  (0, 8591)\t0.5043365091357772\n",
      "  (0, 7702)\t0.37674276971445636\n",
      "  (0, 3065)\t0.29120672453799534\n",
      "  (0, 2452)\t0.5619816842520484\n"
     ]
    }
   ],
   "source": [
    "print(X_tfidf[1][0])"
   ]
  },
  {
   "cell_type": "markdown",
   "id": "0819db84",
   "metadata": {},
   "source": [
    "## Classifcation Model"
   ]
  },
  {
   "cell_type": "code",
   "execution_count": null,
   "id": "66548ec3",
   "metadata": {},
   "outputs": [],
   "source": []
  }
 ],
 "metadata": {
  "kernelspec": {
   "display_name": "spam-detection",
   "language": "python",
   "name": "spam-detection"
  },
  "language_info": {
   "codemirror_mode": {
    "name": "ipython",
    "version": 3
   },
   "file_extension": ".py",
   "mimetype": "text/x-python",
   "name": "python",
   "nbconvert_exporter": "python",
   "pygments_lexer": "ipython3",
   "version": "3.9.0"
  }
 },
 "nbformat": 4,
 "nbformat_minor": 5
}
